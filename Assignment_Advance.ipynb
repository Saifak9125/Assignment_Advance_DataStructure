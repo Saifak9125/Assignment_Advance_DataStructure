{
 "cells": [
  {
   "cell_type": "markdown",
   "id": "2b1d6501-27ac-4d29-b186-8a63e9d86f25",
   "metadata": {},
   "source": [
    "# Assignment : Data Structure in python"
   ]
  },
  {
   "cell_type": "markdown",
   "id": "44d083da-46b3-4081-a72d-23e7d7a31d14",
   "metadata": {},
   "source": [
    "## 1. Write a code to reverse a string."
   ]
  },
  {
   "cell_type": "code",
   "execution_count": 1,
   "id": "d4625acd-78bb-43ab-bf62-585fd4dcf64a",
   "metadata": {},
   "outputs": [
    {
     "data": {
      "text/plain": [
       "'dlroW !olleH'"
      ]
     },
     "execution_count": 1,
     "metadata": {},
     "output_type": "execute_result"
    }
   ],
   "source": [
    "string1 = \"Hello! World\"\n",
    "string1[::-1]"
   ]
  },
  {
   "cell_type": "markdown",
   "id": "14919937-86c8-4cd2-b0a4-98c43fa63631",
   "metadata": {},
   "source": [
    "## 2. Write a code to count the number of vowels in a string."
   ]
  },
  {
   "cell_type": "code",
   "execution_count": 4,
   "id": "a38bb15b-dbbe-4121-ae72-935a484e5057",
   "metadata": {},
   "outputs": [
    {
     "name": "stdout",
     "output_type": "stream",
     "text": [
      "5\n"
     ]
    }
   ],
   "source": [
    "String1 = \"we are student\"\n",
    "vowels = \"aeiouAEIOU\"\n",
    "count = 0\n",
    "for i in String1:\n",
    "    if i in vowels:\n",
    "        count += 1\n",
    "print(count)"
   ]
  },
  {
   "cell_type": "markdown",
   "id": "1d2c7c75-1f04-4e63-bfdb-5588f06c0d57",
   "metadata": {},
   "source": [
    "## 3. Write a code to check if a given string is palindrome or not."
   ]
  },
  {
   "cell_type": "code",
   "execution_count": 9,
   "id": "8a8546d6-4f42-4808-8314-ff05ca274ba6",
   "metadata": {},
   "outputs": [
    {
     "name": "stdin",
     "output_type": "stream",
     "text": [
      "Enter String : rotor\n"
     ]
    },
    {
     "name": "stdout",
     "output_type": "stream",
     "text": [
      "String is palindrome\n"
     ]
    }
   ],
   "source": [
    "String1 = input(\"Enter String :\")\n",
    "if String1 == String1[::-1]:\n",
    "    print(\"String is palindrome\")\n",
    "else:\n",
    "    print(\"String is not palindrome\")"
   ]
  },
  {
   "cell_type": "markdown",
   "id": "b55f456f-d3a8-4ff8-bdf0-7a8e80022e1e",
   "metadata": {},
   "source": [
    "## 4. Write a code to check if two given string are anagram of each other."
   ]
  },
  {
   "cell_type": "code",
   "execution_count": 13,
   "id": "338e046f-d810-4143-8335-5c87dbbe2bfc",
   "metadata": {},
   "outputs": [
    {
     "name": "stdin",
     "output_type": "stream",
     "text": [
      "Enter first string : silent\n",
      "Enter second string : listen\n"
     ]
    },
    {
     "name": "stdout",
     "output_type": "stream",
     "text": [
      "String are anagram of each other\n"
     ]
    }
   ],
   "source": [
    "String1 = input(\"Enter first string :\")\n",
    "String2 = input(\"Enter second string :\")\n",
    "count = 0\n",
    "for i in String1:\n",
    "    if i in String2:\n",
    "        count += 1\n",
    "if count == len(String1):\n",
    "    print(\"String are anagram of each other\")\n",
    "else:\n",
    "    print(\"String are not anagram of each other\")"
   ]
  },
  {
   "cell_type": "markdown",
   "id": "1823ca94-d03f-413d-a4b8-10d5be1a872a",
   "metadata": {},
   "source": [
    "## 5. Write a code to find all occurrences of a given substring within another string."
   ]
  },
  {
   "cell_type": "code",
   "execution_count": 4,
   "id": "35bcaf52-091b-4052-94eb-d0530b963265",
   "metadata": {},
   "outputs": [
    {
     "name": "stdout",
     "output_type": "stream",
     "text": [
      "[0, 7]\n"
     ]
    }
   ],
   "source": [
    "def find_all_occurrences(string: str, substring: str) -> list:\n",
    "    # Initialize an empty list to store the starting indices of occurrences\n",
    "    indices = []\n",
    "    # Start from the beginning of the string\n",
    "    start = 0\n",
    "    \n",
    "    # Loop to find occurrences of the substring\n",
    "    while True:\n",
    "        # Find the substring in the string starting from the current 'start' index\n",
    "        start = string.find(substring, start)\n",
    "        \n",
    "        # If find() returns -1, it means no more occurrences\n",
    "        if start == -1:\n",
    "            break\n",
    "        \n",
    "        # Append the index of the occurrence\n",
    "        indices.append(start)\n",
    "        \n",
    "        # Move to the next position to continue searching\n",
    "        start += 1\n",
    "    \n",
    "    return indices\n",
    "\n",
    "# Example usage\n",
    "main_string = \"abracadabra\"\n",
    "substring_to_find = \"abra\"\n",
    "occurrences = find_all_occurrences(main_string, substring_to_find)\n",
    "print(occurrences)"
   ]
  },
  {
   "cell_type": "markdown",
   "id": "c73faf04-fdc1-43dd-8b4b-213264672032",
   "metadata": {},
   "source": [
    "## 6. Write a code to perform basic string compression using the counts of repeated characters."
   ]
  },
  {
   "cell_type": "code",
   "execution_count": 3,
   "id": "fdadbdca-5284-4834-bd8e-bb6745d30506",
   "metadata": {},
   "outputs": [
    {
     "name": "stdout",
     "output_type": "stream",
     "text": [
      "a2b1c5a3\n"
     ]
    }
   ],
   "source": [
    "def compress_string(s: str) -> str:\n",
    "    # Initialize variables\n",
    "    compressed = []\n",
    "    count = 1\n",
    "    \n",
    "    # Iterate through the string\n",
    "    for i in range(1, len(s)):\n",
    "        # If current character is the same as previous, increment the count\n",
    "        if s[i] == s[i - 1]:\n",
    "            count += 1\n",
    "        else:\n",
    "            # Append previous character and its count\n",
    "            compressed.append(s[i - 1] + str(count))\n",
    "            count = 1\n",
    "    \n",
    "    # Append the last character and its count\n",
    "    compressed.append(s[-1] + str(count))\n",
    "    \n",
    "    # Join the compressed parts into a string\n",
    "    compressed_string = ''.join(compressed)\n",
    "    \n",
    "    # Return the compressed string if it's shorter than the original; otherwise, return the original string\n",
    "    return compressed_string if len(compressed_string) < len(s) else s\n",
    "\n",
    "# Example usage\n",
    "input_string = \"aabcccccaaa\"\n",
    "compressed_output = compress_string(input_string)\n",
    "print(compressed_output)  # Output will be \"a2b1c5a3\""
   ]
  },
  {
   "cell_type": "markdown",
   "id": "14570ed0-4982-48a1-8ea7-fae75fa648e9",
   "metadata": {},
   "source": [
    "## 7. Write a code to determine if a string has all unique characters."
   ]
  },
  {
   "cell_type": "code",
   "execution_count": 5,
   "id": "ebf69348-d3d9-469a-be39-8195e49699d7",
   "metadata": {},
   "outputs": [
    {
     "name": "stdout",
     "output_type": "stream",
     "text": [
      "string abcdefg has all unique characters\n"
     ]
    }
   ],
   "source": [
    "def find_unique(str):\n",
    "\n",
    "    for i in range(len(str)):\n",
    "        for j in range(i+1,len(str)):\n",
    "            if str[i] == str[j]:\n",
    "                return False\n",
    "    return True\n",
    "\n",
    "input = \"abcdefg\"\n",
    "result = find_unique(input)\n",
    "\n",
    "if result:\n",
    "    print(f\"string {input} has all unique characters\")\n",
    "else:\n",
    "    print(f\"string {input} has not all unique characters\")"
   ]
  },
  {
   "cell_type": "markdown",
   "id": "058f0793-152a-498a-8428-4a1dde1cc470",
   "metadata": {},
   "source": [
    "## 8. Write a code to convert a given string to upperCase or lowerCase."
   ]
  },
  {
   "cell_type": "code",
   "execution_count": 7,
   "id": "5c382140-a482-4982-b481-cfc42a7848ae",
   "metadata": {},
   "outputs": [
    {
     "name": "stdout",
     "output_type": "stream",
     "text": [
      "PYTHON\n",
      "python\n"
     ]
    }
   ],
   "source": [
    "def convert_uppercase(str):\n",
    "    return str.upper()\n",
    "def convert_lowercase(str):\n",
    "    return str.lower()\n",
    "\n",
    "print(convert_uppercase(\"python\"))\n",
    "print(convert_lowercase(\"Python\"))"
   ]
  },
  {
   "cell_type": "markdown",
   "id": "d0b68ade-9300-4ca7-802b-1bd92a0e5df8",
   "metadata": {},
   "source": [
    "## 9. Write a code to count the number of words in a string."
   ]
  },
  {
   "cell_type": "code",
   "execution_count": 10,
   "id": "6beff310-7161-4c59-b353-6954bb9cc436",
   "metadata": {},
   "outputs": [
    {
     "name": "stdout",
     "output_type": "stream",
     "text": [
      "Number of words in String: 6\n"
     ]
    }
   ],
   "source": [
    "def count_word(str):\n",
    "    words = str.split()\n",
    "    return len(words)\n",
    "    \n",
    "print(f\"Number of words in String:\",count_word(\"This course name is data science\"))"
   ]
  },
  {
   "cell_type": "markdown",
   "id": "aea90c5d-9389-4c0a-bdf4-44573f675381",
   "metadata": {},
   "source": [
    "## 10. Write a code to concatenate two strings without using the + operator."
   ]
  },
  {
   "cell_type": "code",
   "execution_count": 13,
   "id": "8f0bf7b9-fedb-40dc-9dff-e8963f889b85",
   "metadata": {},
   "outputs": [
    {
     "name": "stdout",
     "output_type": "stream",
     "text": [
      "Hello World\n"
     ]
    }
   ],
   "source": [
    "def concate_strings(str1: str , str2: str):\n",
    "    # use join method to concatinate two string\n",
    "    return ' '.join([str1,str2])\n",
    "\n",
    "print(concate_strings(\"Hello\", \"World\"))"
   ]
  },
  {
   "cell_type": "markdown",
   "id": "baad466a-7e19-4ed5-af98-5fa243f188b4",
   "metadata": {},
   "source": [
    "## 11. Write a code to remove all occurrences of a specific element from a list."
   ]
  },
  {
   "cell_type": "code",
   "execution_count": 14,
   "id": "92ef1728-b386-46ce-b731-996e151cd207",
   "metadata": {},
   "outputs": [
    {
     "name": "stdout",
     "output_type": "stream",
     "text": [
      "[1, 3, 4, 5, 6]\n"
     ]
    }
   ],
   "source": [
    "def remove_all_occurrences(lst: list, element) -> list:\n",
    "    return [x for x in lst if x != element]\n",
    "\n",
    "input_list = [1, 2, 3, 4, 2, 5, 2, 6]\n",
    "element_to_remove = 2\n",
    "result = remove_all_occurrences(input_list, element_to_remove)\n",
    "print(result) "
   ]
  },
  {
   "cell_type": "markdown",
   "id": "b2ca468c-9e22-427d-bedb-bd988c736fb9",
   "metadata": {},
   "source": [
    "## 12. Implement a code to find the second largest number in a given list of integers."
   ]
  },
  {
   "cell_type": "code",
   "execution_count": 19,
   "id": "b603d350-257c-487a-b830-0a3d11fae9bf",
   "metadata": {},
   "outputs": [
    {
     "name": "stdout",
     "output_type": "stream",
     "text": [
      "Second largest number in list: 76\n"
     ]
    }
   ],
   "source": [
    "def find_second_largest_number(lst: list):\n",
    "    largest = second_largest = lst[0]\n",
    "    for num in lst:\n",
    "        if num > largest:\n",
    "            second_largest = largest\n",
    "            largest = num\n",
    "        elif num > second_largest and num != largest:\n",
    "            second_largest = num\n",
    "    return second_largest\n",
    "\n",
    "my_list = [32,45,12,13,22,76,83]\n",
    "result = find_second_largest_number(my_list)\n",
    "print(\"Second largest number in list:\",result)"
   ]
  },
  {
   "cell_type": "markdown",
   "id": "b482aa4a-dd2f-459d-8e83-04f5012d1836",
   "metadata": {},
   "source": [
    "## 13. Create a code to count the occurrences of each element in a list and return a dictionary with elements as key and their counts as values."
   ]
  },
  {
   "cell_type": "code",
   "execution_count": 23,
   "id": "57ac7a67-65ff-4f2a-90de-0805cac5ba44",
   "metadata": {},
   "outputs": [
    {
     "name": "stdout",
     "output_type": "stream",
     "text": [
      "{1: 2, 2: 3, 3: 2, 4: 2, 5: 3, 6: 1}\n"
     ]
    }
   ],
   "source": [
    "def count_occurrences_ele(lst: list):\n",
    "    count = {}\n",
    "    for i in lst:\n",
    "        if i in count:\n",
    "            count[i] += 1\n",
    "        else:\n",
    "            count[i] =1\n",
    "    return count\n",
    "\n",
    "output = count_occurrences_ele([1,2,3,1,2,2,4,5,5,6,3,4,5])\n",
    "print(output)"
   ]
  },
  {
   "cell_type": "markdown",
   "id": "61169ceb-7726-4f0c-8798-fd8d21bb2745",
   "metadata": {},
   "source": [
    "## 14. Write a code to reverse a list in-place without using any built-in reverse functions."
   ]
  },
  {
   "cell_type": "code",
   "execution_count": 24,
   "id": "deb1070b-d8ce-4602-abf1-4b2e5a674667",
   "metadata": {},
   "outputs": [
    {
     "name": "stdout",
     "output_type": "stream",
     "text": [
      "[6, 5, 4, 3, 2, 1]\n"
     ]
    }
   ],
   "source": [
    "def reverse_list(lst: list):\n",
    "    return lst[::-1]\n",
    "\n",
    "list = [1,2,3,4,5,6]\n",
    "print(reverse_list(list))"
   ]
  },
  {
   "cell_type": "markdown",
   "id": "98bb746d-a164-41d3-b0a6-ae35458a623e",
   "metadata": {},
   "source": [
    "## 15. Implement a code to find and remove duplicates from a list while preserving the original order of elements."
   ]
  },
  {
   "cell_type": "code",
   "execution_count": 26,
   "id": "6fe383d4-c5ce-4929-a8b4-544d76ffe18e",
   "metadata": {},
   "outputs": [
    {
     "name": "stdout",
     "output_type": "stream",
     "text": [
      "[1, 2, 3, 4, 5, 6]\n"
     ]
    }
   ],
   "source": [
    "def remove_duplicate(lst: list):\n",
    "    lst1 = []\n",
    "    for i in lst:\n",
    "        if i not in lst1:\n",
    "            lst1.append(i)\n",
    "    return lst1\n",
    "\n",
    "my_list = [1,2,1,3,4,5,6,4,5]\n",
    "print(remove_duplicate(my_list))"
   ]
  },
  {
   "cell_type": "markdown",
   "id": "dff4e07b-e14d-4c7e-9df5-2a8a43708743",
   "metadata": {},
   "source": [
    "## 16. Create a code to check if a given list is sorted (either in ascending or descending order) or not."
   ]
  },
  {
   "cell_type": "code",
   "execution_count": 31,
   "id": "13e91c26-9c65-4751-a230-83273906b75f",
   "metadata": {},
   "outputs": [
    {
     "name": "stdout",
     "output_type": "stream",
     "text": [
      "This list is sorted in ascending order\n",
      "This list is sorted in descending order\n",
      "This list is not sorted\n"
     ]
    }
   ],
   "source": [
    "def check_list(lst: list):\n",
    "    if len(lst) < 2:\n",
    "        return \"This list too short to determine order\"\n",
    "        \n",
    "    ascending = all(lst[i] <= lst[i+1] for i in range(len(lst)-1))\n",
    "    descending = all(lst[i] >= lst[i+1] for i in range(len(lst)-1))\n",
    "\n",
    "    if ascending:\n",
    "        return \"This list is sorted in ascending order\"\n",
    "    elif descending:\n",
    "        return \"This list is sorted in descending order\"\n",
    "    else:\n",
    "        return \"This list is not sorted\"\n",
    "\n",
    "input_asc = [1,2,3,4,5,6]\n",
    "input_dsc = [6,5,4,3,2,1]\n",
    "input_notsorted = [3,2,5,7,8,1]\n",
    "\n",
    "print(check_list(input_asc))\n",
    "print(check_list(input_dsc))\n",
    "print(check_list(input_notsorted))"
   ]
  },
  {
   "cell_type": "markdown",
   "id": "c1305f80-7a93-4e4f-ba78-276e923cedb7",
   "metadata": {},
   "source": [
    "## 17 Write a code to merge two sorted lists into a single sorted list."
   ]
  },
  {
   "cell_type": "code",
   "execution_count": 37,
   "id": "39d35bc0-be07-41d0-81f2-30cad295bb61",
   "metadata": {},
   "outputs": [
    {
     "name": "stdout",
     "output_type": "stream",
     "text": [
      "[1, 2, 3, 4, 5, 6, 7, 8, 9, 10, 13]\n"
     ]
    }
   ],
   "source": [
    "def merge_sorted_lists(list1: list, list2: list) -> list:\n",
    "    merged_list = []\n",
    "    i, j = 0, 0\n",
    "\n",
    "    while i < len(list1) and j < len(list2):\n",
    "        if list1[i] < list2[j]:\n",
    "            merged_list.append(list1[i])\n",
    "            i += 1\n",
    "        else:\n",
    "            merged_list.append(list2[j])\n",
    "            j += 1\n",
    "\n",
    "    while i < len(list1):\n",
    "        merged_list.append(list1[i])\n",
    "        i += 1\n",
    "\n",
    "    while j < len(list2):\n",
    "        merged_list.append(list2[j])\n",
    "        j += 1\n",
    "\n",
    "    return merged_list\n",
    "\n",
    "sorted_list1 = [1, 3, 5, 7]\n",
    "sorted_list2 = [2, 4, 6, 8,9,10,13]\n",
    "merged = merge_sorted_lists(sorted_list1, sorted_list2)\n",
    "print(merged)"
   ]
  },
  {
   "cell_type": "markdown",
   "id": "de601475-7852-44a1-9092-f71d53792c1b",
   "metadata": {},
   "source": [
    "## 18. Implement a code to find the intersection of two given lists."
   ]
  },
  {
   "cell_type": "code",
   "execution_count": 38,
   "id": "ec254cfd-f6de-4c6f-b0a3-e431312d676a",
   "metadata": {},
   "outputs": [
    {
     "name": "stdout",
     "output_type": "stream",
     "text": [
      "[3, 5, 7, 8]\n"
     ]
    }
   ],
   "source": [
    "def intersection_lists(lst1: list, lst2: list):\n",
    "    lst3 = []\n",
    "    for i in lst1:\n",
    "        if i in lst2:\n",
    "            lst3.append(i)\n",
    "    return lst3\n",
    "\n",
    "my_list1 = [1,3,5,7,8]\n",
    "my_list2 = [2,3,4,5,7,8]\n",
    "print(intersection_lists(my_list1,my_list2))"
   ]
  },
  {
   "cell_type": "markdown",
   "id": "ffb9464a-93b6-4935-b3fe-77e4ddc8f160",
   "metadata": {},
   "source": [
    "## 19. Create a code to find the union of two lists without duplicate."
   ]
  },
  {
   "cell_type": "code",
   "execution_count": 46,
   "id": "b43c4ea0-cfdf-4374-b9db-cd4245299c27",
   "metadata": {},
   "outputs": [
    {
     "name": "stdout",
     "output_type": "stream",
     "text": [
      "{1, 2, 3, 4, 5, 7, 8}\n"
     ]
    }
   ],
   "source": [
    "def union_lists(lst1, lst2):\n",
    "    return lst1 + lst2\n",
    "    \n",
    "            \n",
    "            \n",
    "list1 = [1,3,5,7,8]\n",
    "list2 = [2,3,4,5,7]\n",
    "print(set(union_lists(list1,list2)))"
   ]
  },
  {
   "cell_type": "markdown",
   "id": "bf36f74c-855c-44f4-bded-6da25c06acbb",
   "metadata": {},
   "source": [
    "## 20. Write a code to shuffle a given list randomly without using any built-in shuffle functions."
   ]
  },
  {
   "cell_type": "code",
   "execution_count": 48,
   "id": "32a5fb2c-0c61-4b98-8c37-34a566f0e219",
   "metadata": {},
   "outputs": [
    {
     "name": "stdout",
     "output_type": "stream",
     "text": [
      "[2, 1, 4, 5, 3]\n"
     ]
    }
   ],
   "source": [
    "import random\n",
    "\n",
    "def shuffle_list(lst: list) -> list:\n",
    "    shuffled = lst.copy()\n",
    "    n = len(shuffled)\n",
    "\n",
    "    for i in range(n - 1, 0, -1):\n",
    "        j = random.randint(0, i)\n",
    "        shuffled[i], shuffled[j] = shuffled[j], shuffled[i]\n",
    "\n",
    "    return shuffled\n",
    "\n",
    "input_list = [1, 2, 3, 4, 5]\n",
    "shuffled_list = shuffle_list(input_list)\n",
    "print(shuffled_list)"
   ]
  },
  {
   "cell_type": "markdown",
   "id": "b839a446-ffeb-4b40-a6d3-10a297498947",
   "metadata": {},
   "source": [
    "## 21. Write a code that takes two tuples as input and returns a new tuple containing elements that are common to both input tuples."
   ]
  },
  {
   "cell_type": "code",
   "execution_count": 5,
   "id": "f140ebee-00a5-4607-a56e-482a00a6d9de",
   "metadata": {},
   "outputs": [
    {
     "name": "stdout",
     "output_type": "stream",
     "text": [
      "(1, 3, 5, 6)\n"
     ]
    }
   ],
   "source": [
    "def common_element(t1,t2):\n",
    "    return tuple(i for i in t1 for j in t2 if i == j)\n",
    "\n",
    "tuple1 = (1,2,3,4,5,6)\n",
    "tuple2 = (1,3,5,6,7,8)\n",
    "print(common_element(tuple1,tuple2))"
   ]
  },
  {
   "cell_type": "markdown",
   "id": "304167eb-680c-4619-84e5-c08513f86eda",
   "metadata": {},
   "source": [
    "## 22. Create a code that prompts the user to enter two sets of integers seperated by commas. Then print the intersection of these two sets."
   ]
  },
  {
   "cell_type": "code",
   "execution_count": 11,
   "id": "9dbf383a-ac11-4c19-9d81-a9ed80243009",
   "metadata": {},
   "outputs": [
    {
     "name": "stdin",
     "output_type": "stream",
     "text": [
      "Enter the set1:  245678\n",
      "Enter the set2:  123456\n"
     ]
    },
    {
     "name": "stdout",
     "output_type": "stream",
     "text": [
      "Intersection of two sets:  {'4', '2', '6', '5'}\n"
     ]
    }
   ],
   "source": [
    "set1 = set(input(\"Enter the set1: \"))\n",
    "set2 = set(input(\"Enter the set2: \"))\n",
    "\n",
    "def intersection_set(set1,set2):\n",
    "    return set1 & set2\n",
    "\n",
    "print(\"Intersection of two sets: \",intersection_set(set1,set2))"
   ]
  },
  {
   "cell_type": "markdown",
   "id": "265dc228-0601-498e-b254-ba5e2f4db8f5",
   "metadata": {},
   "source": [
    "## 23. Write a code to concatenate two tuples. The function should take two tuples as input and return a new tuple containing elements from both input tuples."
   ]
  },
  {
   "cell_type": "code",
   "execution_count": 13,
   "id": "337bee9b-6c2a-4193-8ccc-c1772d5c58c9",
   "metadata": {},
   "outputs": [
    {
     "name": "stdout",
     "output_type": "stream",
     "text": [
      "concatenate two tuples: (2, 4, 6, 7, 8, 1, 2, 3, 4, 5)\n"
     ]
    }
   ],
   "source": [
    "def concatenate_tuple(t1,t2):\n",
    "    return t1+t2\n",
    "\n",
    "t1 = (2,4,6,7,8)\n",
    "t2 = (1,2,3,4,5)\n",
    "print(\"concatenate two tuples:\",concatenate_tuple(t1,t2))"
   ]
  },
  {
   "cell_type": "markdown",
   "id": "00c76249-d305-4058-b9bb-cc1a40312be4",
   "metadata": {},
   "source": [
    "## 24 Develop a code that prompts the user to input two sets of strings. Then print the elements that are present in the first set but not in the second set."
   ]
  },
  {
   "cell_type": "code",
   "execution_count": 14,
   "id": "332c935d-a2f5-4f5b-aa7d-792776e3a174",
   "metadata": {},
   "outputs": [
    {
     "name": "stdout",
     "output_type": "stream",
     "text": [
      "{2}\n"
     ]
    }
   ],
   "source": [
    "def element_present(set1,set2):\n",
    "    return set1 - set2\n",
    "\n",
    "set1 = {2,4,6,7,9}\n",
    "set2 = {4,6,7,9,8}\n",
    "print(element_present(set1,set2))"
   ]
  },
  {
   "cell_type": "markdown",
   "id": "d4ddb341-96a7-4255-8ff5-912a72651078",
   "metadata": {},
   "source": [
    "## 25. Create a code that takes a tuple and two integers as input. The function should return a new tuple containing elements from the original tuple within the specified range of indices."
   ]
  },
  {
   "cell_type": "code",
   "execution_count": 15,
   "id": "a8091c6f-9ad8-45f8-a76f-583e850abffe",
   "metadata": {},
   "outputs": [
    {
     "name": "stdin",
     "output_type": "stream",
     "text": [
      "Enter starting indices:  2\n",
      "Enter ending indices:  6\n"
     ]
    },
    {
     "name": "stdout",
     "output_type": "stream",
     "text": [
      "(6, 8, 9, 1)\n"
     ]
    }
   ],
   "source": [
    "t1 = (2,4,6,8,9,1,13,2,32)\n",
    "start = int(input(\"Enter starting indices: \"))\n",
    "end = int(input(\"Enter ending indices: \"))\n",
    "\n",
    "print(t1[start:end])"
   ]
  },
  {
   "cell_type": "markdown",
   "id": "90a57450-31bd-47d6-8c71-e71876a07aad",
   "metadata": {},
   "source": [
    "## 26. Write a code that prompts the user to input two sets of characters. Then print the union of these two sets."
   ]
  },
  {
   "cell_type": "code",
   "execution_count": 17,
   "id": "b5b8cc10-51b6-4305-8ee6-d8d07f46b14a",
   "metadata": {},
   "outputs": [
    {
     "name": "stdin",
     "output_type": "stream",
     "text": [
      "Enter set1:  24567\n",
      "Enter set2:  12345\n"
     ]
    },
    {
     "name": "stdout",
     "output_type": "stream",
     "text": [
      "Union of two sets:  {'7', '2', '4', '6', '5', '3', '1'}\n"
     ]
    }
   ],
   "source": [
    "set1 = set(input(\"Enter set1: \"))\n",
    "set2 = set(input(\"Enter set2: \"))\n",
    "\n",
    "print(\"Union of two sets: \",set1 | set2)"
   ]
  },
  {
   "cell_type": "markdown",
   "id": "111586f6-7239-45cd-9738-65270c8923d9",
   "metadata": {},
   "source": [
    "## 27. Develop a code that takes a tuple of integers as input. The function should return the maximum and minimum values from the tuple using tuple unpacking."
   ]
  },
  {
   "cell_type": "code",
   "execution_count": 20,
   "id": "c1c572d5-20e2-4b23-a871-0519954a1c6f",
   "metadata": {},
   "outputs": [
    {
     "name": "stdout",
     "output_type": "stream",
     "text": [
      "Minimum: 1, Maximum: 9\n"
     ]
    }
   ],
   "source": [
    "def min_max_from_tuple(int_tuple):\n",
    "    if not int_tuple:\n",
    "        return None, None\n",
    "\n",
    "    min_val, max_val = int_tuple[0], int_tuple[0]\n",
    "\n",
    "    for num in int_tuple:\n",
    "        if num < min_val:\n",
    "            min_val = num\n",
    "        elif num > max_val:\n",
    "            max_val = num\n",
    "\n",
    "    return min_val, max_val\n",
    "\n",
    "# Example usage\n",
    "input_tuple = (4, 1, 7, 3, 9, 2)\n",
    "minimum, maximum = min_max_from_tuple(input_tuple)\n",
    "print(f\"Minimum: {minimum}, Maximum: {maximum}\")"
   ]
  },
  {
   "cell_type": "markdown",
   "id": "5df3986b-4491-4dd7-9ce4-a69e3705350c",
   "metadata": {},
   "source": [
    "## 28. Create a code that defines two sets of integers. Then print the union intersection and difference of these two sets."
   ]
  },
  {
   "cell_type": "code",
   "execution_count": 21,
   "id": "0ab78435-c96d-44fc-bd52-6ed77b70e0ca",
   "metadata": {},
   "outputs": [
    {
     "name": "stdout",
     "output_type": "stream",
     "text": [
      "Union of sets: {1, 2, 3, 4, 5, 6, 8, 9}\n",
      "Intersection of sets: {2, 4}\n",
      "diffrence of two sets: {8, 9, 6}\n"
     ]
    }
   ],
   "source": [
    "set1 = {2,4,6,8,9}\n",
    "set2 = {1,2,3,4,5}\n",
    "\n",
    "print(\"Union of sets:\",set1 | set2)\n",
    "print(\"Intersection of sets:\",set1 & set2)\n",
    "print(\"diffrence of two sets:\",set1 - set2)"
   ]
  },
  {
   "cell_type": "markdown",
   "id": "35641aea-ee74-4a12-99e4-4add83534560",
   "metadata": {},
   "source": [
    "## 29. Write a code that takes a tuple and an element as input. The function should return the count of occurrences of the given element in the tuple."
   ]
  },
  {
   "cell_type": "code",
   "execution_count": 23,
   "id": "cd30579b-6878-47e3-811a-f11a04e61530",
   "metadata": {},
   "outputs": [
    {
     "name": "stdout",
     "output_type": "stream",
     "text": [
      "count of occurrences of element: 3\n"
     ]
    }
   ],
   "source": [
    "def count_ele(t1,x):\n",
    "    count = 0\n",
    "    for i in t1:\n",
    "        if x == i:\n",
    "            count += 1\n",
    "    return count\n",
    "\n",
    "t1 = (1,3,4,5,2,3,6,7,3,4,5,8,6,7,9,4)\n",
    "x = 4\n",
    "print(\"count of occurrences of element:\",count_ele(t1,x))"
   ]
  },
  {
   "cell_type": "markdown",
   "id": "d428d9c6-3aac-4919-b97f-8a1f5487a47d",
   "metadata": {},
   "source": [
    "## 30. Develop a code that prompts the user to input two sets of strings. Then print the symmetric difference of these two sets."
   ]
  },
  {
   "cell_type": "code",
   "execution_count": 24,
   "id": "ff263f3a-6cb2-4ca3-87fa-197fdbe26cd5",
   "metadata": {},
   "outputs": [
    {
     "name": "stdout",
     "output_type": "stream",
     "text": [
      "Symmetric diffrence : {2, 8}\n"
     ]
    }
   ],
   "source": [
    "def symmetric_diffrence(set1,set2):\n",
    "    return set1 ^ set2\n",
    "\n",
    "set1 = {2,4,6,7,9}\n",
    "set2 = {4,6,7,9,8}\n",
    "print(\"Symmetric diffrence :\",symmetric_diffrence(set1,set2))"
   ]
  },
  {
   "cell_type": "markdown",
   "id": "99781bfa-e148-4b02-9a29-7f248674eb7b",
   "metadata": {},
   "source": [
    "## 31. Write a code that takes a list of words as input and returns a dictionary where the keys are unique words and the values are the frequencies of those words in the input list."
   ]
  },
  {
   "cell_type": "code",
   "execution_count": 25,
   "id": "c0099c2a-976f-49a6-8993-0974f5f2f4d6",
   "metadata": {},
   "outputs": [
    {
     "name": "stdout",
     "output_type": "stream",
     "text": [
      "{'apple': 2, 'banana': 2, 'orange': 2, 'grape': 1}\n"
     ]
    }
   ],
   "source": [
    "def word_frequencies(word_list):\n",
    "    frequency_dict = {}\n",
    "    \n",
    "    for word in word_list:\n",
    "        word_lower = word.lower()\n",
    "        \n",
    "        if word_lower in frequency_dict:\n",
    "            frequency_dict[word_lower] += 1\n",
    "        else:\n",
    "            frequency_dict[word_lower] = 1\n",
    "\n",
    "    return frequency_dict\n",
    "\n",
    "# Example usage\n",
    "input_words = [\"apple\", \"banana\", \"Apple\", \"orange\", \"banana\", \"orange\", \"grape\"]\n",
    "frequency_result = word_frequencies(input_words)\n",
    "print(frequency_result)"
   ]
  },
  {
   "cell_type": "markdown",
   "id": "56bb2032-7018-43dc-bb6b-f5fc56d8f70f",
   "metadata": {},
   "source": [
    "## 32. Write a code that takes two dictionaries as input and merges them into a single dictionary. If there are common keys the values should be added together."
   ]
  },
  {
   "cell_type": "code",
   "execution_count": 26,
   "id": "bb31f860-ab38-4f0c-88c5-2cd9252aa6ab",
   "metadata": {},
   "outputs": [
    {
     "name": "stdout",
     "output_type": "stream",
     "text": [
      "{'apple': 2, 'banana': 4, 'orange': 5, 'grape': 2}\n"
     ]
    }
   ],
   "source": [
    "def merge_dictionaries(dict1, dict2):\n",
    "    merged_dict = dict1.copy()\n",
    "\n",
    "    for key, value in dict2.items():\n",
    "        if key in merged_dict:\n",
    "            merged_dict[key] += value\n",
    "        else:\n",
    "            merged_dict[key] = value\n",
    "\n",
    "    return merged_dict\n",
    "\n",
    "dict_a = {'apple': 2, 'banana': 3, 'orange': 1}\n",
    "dict_b = {'banana': 1, 'orange': 4, 'grape': 2}\n",
    "\n",
    "merged_result = merge_dictionaries(dict_a, dict_b)\n",
    "print(merged_result)"
   ]
  },
  {
   "cell_type": "markdown",
   "id": "68c322db-952d-40f5-b2d1-0f1da9d7ab64",
   "metadata": {},
   "source": [
    "## 33. Write a code to access a value in a nested dictionary. The function should take the dictionary and a list of keys as input and return th corresponding value. If any of the keys do not exist in the dictionary the function should return None."
   ]
  },
  {
   "cell_type": "code",
   "execution_count": 27,
   "id": "bb8444de-cd2d-4318-85df-4acf47da5f0c",
   "metadata": {},
   "outputs": [
    {
     "name": "stdout",
     "output_type": "stream",
     "text": [
      "42\n",
      "None\n"
     ]
    }
   ],
   "source": [
    "def access_nested_dict(nested_dict, keys):\n",
    "    current_value = nested_dict\n",
    "    \n",
    "    for key in keys:\n",
    "        if isinstance(current_value, dict) and key in current_value:\n",
    "            current_value = current_value[key]\n",
    "        else:\n",
    "            return None\n",
    "            \n",
    "    return current_value\n",
    "\n",
    "nested_dictionary = {\n",
    "    'a': {\n",
    "        'b': {\n",
    "            'c': 42\n",
    "        }\n",
    "    },\n",
    "    'x': {\n",
    "        'y': 100\n",
    "    }\n",
    "}\n",
    "\n",
    "keys_to_access = ['a', 'b', 'c']\n",
    "result = access_nested_dict(nested_dictionary, keys_to_access)\n",
    "print(result)\n",
    "\n",
    "keys_to_access_invalid = ['a', 'x', 'c']\n",
    "result_invalid = access_nested_dict(nested_dictionary, keys_to_access_invalid)\n",
    "print(result_invalid)"
   ]
  },
  {
   "cell_type": "markdown",
   "id": "a934af9b-9685-4b70-8f82-b99f42b9578c",
   "metadata": {},
   "source": [
    "## 34. Write a code that takes a dictionary as input and returns a sorted version of it based on the values. You can choose whether to sort in ascending or descending order."
   ]
  },
  {
   "cell_type": "code",
   "execution_count": 28,
   "id": "ec95a076-264d-49a5-b136-ef59c01e7c29",
   "metadata": {},
   "outputs": [
    {
     "name": "stdout",
     "output_type": "stream",
     "text": [
      "Sorted (Ascending): {'orange': 1, 'apple': 2, 'banana': 3, 'grape': 4}\n",
      "Sorted (Descending): {'grape': 4, 'banana': 3, 'apple': 2, 'orange': 1}\n"
     ]
    }
   ],
   "source": [
    "def sort_dict_by_values(input_dict, descending=False):\n",
    "    sorted_dict = dict(sorted(input_dict.items(), key=lambda item: item[1], reverse=descending))\n",
    "    return sorted_dict\n",
    "\n",
    "# Example usage\n",
    "sample_dict = {'apple': 2, 'banana': 3, 'orange': 1, 'grape': 4}\n",
    "\n",
    "# Sort in ascending order\n",
    "sorted_ascending = sort_dict_by_values(sample_dict)\n",
    "print(\"Sorted (Ascending):\", sorted_ascending)\n",
    "\n",
    "# Sort in descending order\n",
    "sorted_descending = sort_dict_by_values(sample_dict, descending=True)\n",
    "print(\"Sorted (Descending):\", sorted_descending)"
   ]
  },
  {
   "cell_type": "markdown",
   "id": "623af5f6-a1e5-46f3-a33e-dc95528bf69f",
   "metadata": {},
   "source": [
    "## 35. Write a code that inverts a dictionry swapping keys and values. Ensure that the inverted dictionary correctly handles cases where multiple keys have the same value by storing the keys as a list in the inverted dictionary."
   ]
  },
  {
   "cell_type": "code",
   "execution_count": 29,
   "id": "a56d77e2-853d-4ad0-a4bf-c9bd2e3f18f6",
   "metadata": {},
   "outputs": [
    {
     "name": "stdout",
     "output_type": "stream",
     "text": [
      "{1: ['a', 'c'], 2: ['b'], 3: ['d']}\n"
     ]
    }
   ],
   "source": [
    "def invert_dictionary(input_dict):\n",
    "    inverted_dict = {}\n",
    "    \n",
    "    for key, value in input_dict.items():\n",
    "        if value in inverted_dict:\n",
    "            inverted_dict[value].append(key)\n",
    "        else:\n",
    "            inverted_dict[value] = [key]\n",
    "\n",
    "    return inverted_dict\n",
    "\n",
    "original_dict = {'a': 1, 'b': 2, 'c': 1, 'd': 3}\n",
    "inverted_result = invert_dictionary(original_dict)\n",
    "print(inverted_result)"
   ]
  },
  {
   "cell_type": "code",
   "execution_count": null,
   "id": "094222f9-f60a-4d2d-8b90-d37ac758d877",
   "metadata": {},
   "outputs": [],
   "source": []
  }
 ],
 "metadata": {
  "kernelspec": {
   "display_name": "Python 3 (ipykernel)",
   "language": "python",
   "name": "python3"
  },
  "language_info": {
   "codemirror_mode": {
    "name": "ipython",
    "version": 3
   },
   "file_extension": ".py",
   "mimetype": "text/x-python",
   "name": "python",
   "nbconvert_exporter": "python",
   "pygments_lexer": "ipython3",
   "version": "3.12.5"
  }
 },
 "nbformat": 4,
 "nbformat_minor": 5
}
